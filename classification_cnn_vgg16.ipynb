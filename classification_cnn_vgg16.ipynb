{
 "cells": [
  {
   "cell_type": "code",
   "execution_count": 1,
   "metadata": {
    "colab": {
     "base_uri": "https://localhost:8080/",
     "height": 34
    },
    "colab_type": "code",
    "executionInfo": {
     "elapsed": 3046,
     "status": "ok",
     "timestamp": 1554052938056,
     "user": {
      "displayName": "Mood Class",
      "photoUrl": "",
      "userId": "05879208426753522283"
     },
     "user_tz": -180
    },
    "id": "yxfW96s3QfaY",
    "outputId": "d819dcee-92e5-4d3c-b19c-7508b4a80ca9"
   },
   "outputs": [
    {
     "name": "stderr",
     "output_type": "stream",
     "text": [
      "Using TensorFlow backend.\n"
     ]
    }
   ],
   "source": [
    "import warnings\n",
    "warnings.filterwarnings(\"ignore\", category = FutureWarning)\n",
    "\n",
    "import os\n",
    "import keras\n",
    "import h5py\n",
    "import librosa\n",
    "import itertools\n",
    "import numpy as np\n",
    "import matplotlib.pyplot as plt\n",
    "from collections import OrderedDict\n",
    "\n",
    "from keras.utils import to_categorical\n",
    "from sklearn.model_selection import train_test_split\n",
    "from sklearn.metrics import confusion_matrix\n",
    "\n",
    "from keras.models import Sequential\n",
    "from keras.layers import Dense\n",
    "from keras.layers import Activation\n",
    "from keras.layers import Flatten\n",
    "from keras.layers import Input\n",
    "from keras.layers import Dropout\n",
    "from keras.models import Model\n",
    "from keras.applications.vgg16 import VGG16\n",
    "from tensorflow.keras.callbacks import EarlyStopping"
   ]
  },
  {
   "cell_type": "markdown",
   "metadata": {
    "colab_type": "text",
    "id": "LofJlezKQfai"
   },
   "source": [
    "# Read the data\n",
    "\n",
    "> Helper functions to assist the process to read songs, split then and return an array of spectrograms/melspectrograms"
   ]
  },
  {
   "cell_type": "code",
   "execution_count": 0,
   "metadata": {
    "colab": {},
    "colab_type": "code",
    "id": "i2IeHtfrQfaj"
   },
   "outputs": [],
   "source": [
    "\"\"\"\n",
    "@description: Method to split a song into multiple songs using overlapping windows\n",
    "\"\"\"\n",
    "def splitsongs(X, y, window = 0.1, overlap = 0.5):\n",
    "    # Empty lists to hold our results\n",
    "    temp_X = []\n",
    "    temp_y = []\n",
    "\n",
    "    # Get the input song array size\n",
    "    xshape = X.shape[0]\n",
    "    chunk = int(xshape*window)\n",
    "    offset = int(chunk*(1.-overlap))\n",
    "    \n",
    "    # Split the song and create new ones on windows\n",
    "    spsong = [X[i:i+chunk] for i in range(0, xshape - chunk + offset, offset)]\n",
    "    for s in spsong:\n",
    "        temp_X.append(s)\n",
    "        temp_y.append(y)\n",
    "\n",
    "    return np.array(temp_X), np.array(temp_y)"
   ]
  },
  {
   "cell_type": "code",
   "execution_count": 0,
   "metadata": {
    "colab": {},
    "colab_type": "code",
    "id": "dKxqynk7Qfan"
   },
   "outputs": [],
   "source": [
    "\"\"\"\n",
    "@description: Method to convert a list of songs to a np array of melspectrograms\n",
    "\"\"\"\n",
    "def to_melspectrogram(songs, n_fft = 1024, hop_length = 512):\n",
    "    # Transformation function\n",
    "    melspec = lambda x: librosa.feature.melspectrogram(x, n_fft = n_fft,\n",
    "        hop_length = hop_length)[:,:,np.newaxis]\n",
    "\n",
    "    # map transformation of input songs to melspectrogram using log-scale\n",
    "    tsongs = map(melspec, songs)\n",
    "    return np.array(list(tsongs))"
   ]
  },
  {
   "cell_type": "code",
   "execution_count": 0,
   "metadata": {
    "colab": {},
    "colab_type": "code",
    "id": "FqWlFiPSQfaq"
   },
   "outputs": [],
   "source": [
    "def read_data(src_dir, genres, song_samples, spec_format, debug = True):    \n",
    "    # Empty array of dicts with the processed features from all files\n",
    "    arr_specs = []\n",
    "    arr_genres = []\n",
    "\n",
    "    # Read files from the folders\n",
    "    for x,_ in genres.items():\n",
    "        folder = src_dir + x\n",
    "        \n",
    "        for root, subdirs, files in os.walk(folder):\n",
    "            for file in files:\n",
    "                # Read the audio file\n",
    "                file_name = folder + \"/\" + file\n",
    "                signal, sr = librosa.load(file_name)\n",
    "                if len(signal) < song_samples:\n",
    "                    print('Error in {}\\nNum of samples ( >= {}): {}'.format(file_name, song_samples, len(signal)))\n",
    "                signal = signal[:song_samples]\n",
    "                \n",
    "                # Debug process\n",
    "                if debug:\n",
    "                    print(\"Reading file: {}\".format(file_name))\n",
    "                \n",
    "                # Convert to dataset of spectograms/melspectograms\n",
    "                signals, y = splitsongs(signal, genres[x])\n",
    "                \n",
    "                # Convert to \"spec\" representation\n",
    "                specs = spec_format(signals)\n",
    "                \n",
    "                # Save files\n",
    "                arr_genres.extend(y)\n",
    "                arr_specs.extend(specs)\n",
    "                \n",
    "                \n",
    "    return np.array(arr_specs), np.array(arr_genres)"
   ]
  },
  {
   "cell_type": "code",
   "execution_count": 0,
   "metadata": {
    "colab": {},
    "colab_type": "code",
    "id": "vjKaRSYRQfau"
   },
   "outputs": [],
   "source": [
    "# Parameters\n",
    "gtzan_dir = './gtzan/'\n",
    "song_samples = 660000\n",
    "genres = {'metal': 0, 'disco': 1, 'classical': 2, 'hiphop': 3, 'jazz': 4, \n",
    "          'country': 5, 'pop': 6, 'blues': 7, 'reggae': 8, 'rock': 9}"
   ]
  },
  {
   "cell_type": "code",
   "execution_count": null,
   "metadata": {
    "colab": {
     "base_uri": "https://localhost:8080/",
     "height": 139
    },
    "colab_type": "code",
    "executionInfo": {
     "elapsed": 94770,
     "status": "ok",
     "timestamp": 1554053029819,
     "user": {
      "displayName": "Mood Class",
      "photoUrl": "",
      "userId": "05879208426753522283"
     },
     "user_tz": -180
    },
    "id": "2AmziFJZQfay",
    "outputId": "eaa7bbe8-611a-4b58-accb-3bee00864675"
   },
   "outputs": [],
   "source": [
    "# Read the data\n",
    "# X, y = read_data(gtzan_dir, genres, song_samples, to_melspectrogram, debug=True)\n",
    "# np.save('./data/x_gtzan_npy.npy', X)\n",
    "# np.save('./data/y_gtzan_npy.npy', y)"
   ]
  },
  {
   "cell_type": "code",
   "execution_count": null,
   "metadata": {
    "colab": {
     "base_uri": "https://localhost:8080/",
     "height": 34
    },
    "colab_type": "code",
    "executionInfo": {
     "elapsed": 153702,
     "status": "ok",
     "timestamp": 1554053088791,
     "user": {
      "displayName": "Mood Class",
      "photoUrl": "",
      "userId": "05879208426753522283"
     },
     "user_tz": -180
    },
    "id": "qWpT21rXQfa5",
    "outputId": "627deeec-13e4-4ac7-b87e-c7977220d992"
   },
   "outputs": [],
   "source": [
    "X = np.load('./data/x_gtzan_npy.npy')\n",
    "y = np.load('./data/y_gtzan_npy.npy')"
   ]
  },
  {
   "cell_type": "code",
   "execution_count": 0,
   "metadata": {
    "colab": {},
    "colab_type": "code",
    "id": "u08a2XxAQfa8"
   },
   "outputs": [],
   "source": [
    "# One hot encoding of the labels\n",
    "y = to_categorical(y)"
   ]
  },
  {
   "cell_type": "markdown",
   "metadata": {
    "colab_type": "text",
    "id": "RZTR4QAjQfbA"
   },
   "source": [
    "# Dataset Split"
   ]
  },
  {
   "cell_type": "code",
   "execution_count": 9,
   "metadata": {
    "colab": {
     "base_uri": "https://localhost:8080/",
     "height": 34
    },
    "colab_type": "code",
    "executionInfo": {
     "elapsed": 157118,
     "status": "ok",
     "timestamp": 1554053092225,
     "user": {
      "displayName": "Mood Class",
      "photoUrl": "",
      "userId": "05879208426753522283"
     },
     "user_tz": -180
    },
    "id": "s2s3p-EMQfbB",
    "outputId": "5311fde0-ddf2-4d80-ba0f-5bdd894f764b"
   },
   "outputs": [
    {
     "data": {
      "text/plain": [
       "(19000, 128, 129, 3)"
      ]
     },
     "execution_count": 9,
     "metadata": {
      "tags": []
     },
     "output_type": "execute_result"
    }
   ],
   "source": [
    "X_stack = np.squeeze(np.stack((X,) * 3, -1))\n",
    "X_stack.shape"
   ]
  },
  {
   "cell_type": "code",
   "execution_count": 0,
   "metadata": {
    "colab": {},
    "colab_type": "code",
    "id": "3KGYdj6oQfbG"
   },
   "outputs": [],
   "source": [
    "X_train, X_test, y_train, y_test = train_test_split(X_stack, y, test_size=0.3, random_state=42, stratify = y)"
   ]
  },
  {
   "cell_type": "code",
   "execution_count": 11,
   "metadata": {
    "colab": {
     "base_uri": "https://localhost:8080/",
     "height": 34
    },
    "colab_type": "code",
    "executionInfo": {
     "elapsed": 159994,
     "status": "ok",
     "timestamp": 1554053095125,
     "user": {
      "displayName": "Mood Class",
      "photoUrl": "",
      "userId": "05879208426753522283"
     },
     "user_tz": -180
    },
    "id": "olPVl0BqQfbJ",
    "outputId": "02c656e6-606f-4fff-a0a4-c2e02e17a75b"
   },
   "outputs": [
    {
     "name": "stdout",
     "output_type": "stream",
     "text": [
      "(13300, 128, 129, 3) (5700, 128, 129, 3) (13300, 10) (5700, 10)\n"
     ]
    }
   ],
   "source": [
    "print(X_train.shape, X_test.shape, y_train.shape, y_test.shape)"
   ]
  },
  {
   "cell_type": "code",
   "execution_count": 13,
   "metadata": {
    "colab": {
     "base_uri": "https://localhost:8080/",
     "height": 347
    },
    "colab_type": "code",
    "executionInfo": {
     "elapsed": 160773,
     "status": "ok",
     "timestamp": 1554053095978,
     "user": {
      "displayName": "Mood Class",
      "photoUrl": "",
      "userId": "05879208426753522283"
     },
     "user_tz": -180
    },
    "id": "tSXPiqdSQfbO",
    "outputId": "b8f870d8-722e-42aa-f617-be95ee2b11f5"
   },
   "outputs": [
    {
     "data": {
      "image/png": "[encoded data removed]",
      "text/plain": [
       "<Figure size 576x396 with 1 Axes>"
      ]
     },
     "metadata": {
      "tags": []
     },
     "output_type": "display_data"
    }
   ],
   "source": [
    "# Histogram for train and test \n",
    "values, count = np.unique(np.argmax(y_train, axis=1), return_counts=True)\n",
    "plt.bar(values, count)\n",
    "\n",
    "values, count = np.unique(np.argmax(y_test, axis=1), return_counts=True)\n",
    "plt.bar(values, count)\n",
    "plt.show()"
   ]
  },
  {
   "cell_type": "markdown",
   "metadata": {
    "colab_type": "text",
    "id": "ZptzK0b3QfbU"
   },
   "source": [
    "# Training"
   ]
  },
  {
   "cell_type": "code",
   "execution_count": 14,
   "metadata": {
    "colab": {
     "base_uri": "https://localhost:8080/",
     "height": 989
    },
    "colab_type": "code",
    "executionInfo": {
     "elapsed": 164350,
     "status": "ok",
     "timestamp": 1554053099590,
     "user": {
      "displayName": "Mood Class",
      "photoUrl": "",
      "userId": "05879208426753522283"
     },
     "user_tz": -180
    },
    "id": "R9gtL1xhQfbV",
    "outputId": "4040db2f-e311-42d0-e241-aa6133866e37"
   },
   "outputs": [
    {
     "name": "stdout",
     "output_type": "stream",
     "text": [
      "WARNING:tensorflow:From /usr/local/lib/python3.6/dist-packages/tensorflow/python/framework/op_def_library.py:263: colocate_with (from tensorflow.python.framework.ops) is deprecated and will be removed in a future version.\n",
      "Instructions for updating:\n",
      "Colocations handled automatically by placer.\n",
      "Downloading data from https://github.com/fchollet/deep-learning-models/releases/download/v0.1/vgg16_weights_tf_dim_ordering_tf_kernels_notop.h5\n",
      "58892288/58889256 [==============================] - 1s 0us/step\n",
      "WARNING:tensorflow:From /usr/local/lib/python3.6/dist-packages/keras/backend/tensorflow_backend.py:3445: calling dropout (from tensorflow.python.ops.nn_ops) with keep_prob is deprecated and will be removed in a future version.\n",
      "Instructions for updating:\n",
      "Please use `rate` instead of `keep_prob`. Rate should be set to `rate = 1 - keep_prob`.\n",
      "Creating EarlyStopping Callback ...\n",
      "_________________________________________________________________\n",
      "Layer (type)                 Output Shape              Param #   \n",
      "=================================================================\n",
      "input_1 (InputLayer)         (None, 128, 129, 3)       0         \n",
      "_________________________________________________________________\n",
      "block1_conv1 (Conv2D)        (None, 128, 129, 64)      1792      \n",
      "_________________________________________________________________\n",
      "block1_conv2 (Conv2D)        (None, 128, 129, 64)      36928     \n",
      "_________________________________________________________________\n",
      "block1_pool (MaxPooling2D)   (None, 64, 64, 64)        0         \n",
      "_________________________________________________________________\n",
      "block2_conv1 (Conv2D)        (None, 64, 64, 128)       73856     \n",
      "_________________________________________________________________\n",
      "block2_conv2 (Conv2D)        (None, 64, 64, 128)       147584    \n",
      "_________________________________________________________________\n",
      "block2_pool (MaxPooling2D)   (None, 32, 32, 128)       0         \n",
      "_________________________________________________________________\n",
      "block3_conv1 (Conv2D)        (None, 32, 32, 256)       295168    \n",
      "_________________________________________________________________\n",
      "block3_conv2 (Conv2D)        (None, 32, 32, 256)       590080    \n",
      "_________________________________________________________________\n",
      "block3_conv3 (Conv2D)        (None, 32, 32, 256)       590080    \n",
      "_________________________________________________________________\n",
      "block3_pool (MaxPooling2D)   (None, 16, 16, 256)       0         \n",
      "_________________________________________________________________\n",
      "block4_conv1 (Conv2D)        (None, 16, 16, 512)       1180160   \n",
      "_________________________________________________________________\n",
      "block4_conv2 (Conv2D)        (None, 16, 16, 512)       2359808   \n",
      "_________________________________________________________________\n",
      "block4_conv3 (Conv2D)        (None, 16, 16, 512)       2359808   \n",
      "_________________________________________________________________\n",
      "block4_pool (MaxPooling2D)   (None, 8, 8, 512)         0         \n",
      "_________________________________________________________________\n",
      "block5_conv1 (Conv2D)        (None, 8, 8, 512)         2359808   \n",
      "_________________________________________________________________\n",
      "block5_conv2 (Conv2D)        (None, 8, 8, 512)         2359808   \n",
      "_________________________________________________________________\n",
      "block5_conv3 (Conv2D)        (None, 8, 8, 512)         2359808   \n",
      "_________________________________________________________________\n",
      "block5_pool (MaxPooling2D)   (None, 4, 4, 512)         0         \n",
      "_________________________________________________________________\n",
      "sequential_1 (Sequential)    (None, 10)                2099978   \n",
      "=================================================================\n",
      "Total params: 16,814,666\n",
      "Trainable params: 16,702,090\n",
      "Non-trainable params: 112,576\n",
      "_________________________________________________________________\n"
     ]
    }
   ],
   "source": [
    "# Model Definition\n",
    "input_shape = X_train[0].shape\n",
    "num_genres = 10\n",
    "\n",
    "def cnn_vgg16(input_shape, num_genres, freezed_layers):\n",
    "    input_tensor = Input(shape=input_shape)\n",
    "    vgg16 = VGG16(include_top=False, weights='imagenet',\n",
    "                  input_tensor=input_tensor)\n",
    "\n",
    "    top = Sequential()\n",
    "    top.add(Flatten(input_shape=vgg16.output_shape[1:]))\n",
    "    top.add(Dense(256, activation='relu'))\n",
    "    top.add(Dropout(0.5))\n",
    "    top.add(Dense(num_genres, activation='softmax'))\n",
    "\n",
    "    model = Model(inputs=vgg16.input, outputs=top(vgg16.output))\n",
    "    for layer in model.layers[:freezed_layers]:\n",
    "        layer.trainable = False\n",
    "\n",
    "    return model\n",
    "\n",
    "model = cnn_vgg16(input_shape, num_genres, 5)\n",
    "print(\"Creating EarlyStopping Callback ...\")\n",
    "early_stopping_callback = EarlyStopping(monitor='val_acc', patience=5)\n",
    "model.summary()"
   ]
  },
  {
   "cell_type": "code",
   "execution_count": 15,
   "metadata": {
    "colab": {
     "base_uri": "https://localhost:8080/",
     "height": 1346
    },
    "colab_type": "code",
    "executionInfo": {
     "elapsed": 174266,
     "status": "ok",
     "timestamp": 1554056477332,
     "user": {
      "displayName": "Mood Class",
      "photoUrl": "",
      "userId": "05879208426753522283"
     },
     "user_tz": -180
    },
    "id": "tnNrv73gQfbZ",
    "outputId": "575842a3-2a67-4ae7-f2ca-00302c11f891"
   },
   "outputs": [
    {
     "name": "stdout",
     "output_type": "stream",
     "text": [
      "WARNING:tensorflow:From /usr/local/lib/python3.6/dist-packages/tensorflow/python/ops/math_ops.py:3066: to_int32 (from tensorflow.python.ops.math_ops) is deprecated and will be removed in a future version.\n",
      "Instructions for updating:\n",
      "Use tf.cast instead.\n",
      "Train on 13300 samples, validate on 5700 samples\n",
      "Epoch 1/1000\n",
      "13300/13300 [==============================] - 112s 8ms/step - loss: 2.1468 - acc: 0.2668 - val_loss: 1.6959 - val_acc: 0.3786\n",
      "Epoch 2/1000\n",
      "13300/13300 [==============================] - 93s 7ms/step - loss: 1.6221 - acc: 0.4169 - val_loss: 1.4218 - val_acc: 0.4895\n",
      "Epoch 3/1000\n",
      "13300/13300 [==============================] - 93s 7ms/step - loss: 1.3679 - acc: 0.5139 - val_loss: 1.1692 - val_acc: 0.5867\n",
      "Epoch 4/1000\n",
      "13300/13300 [==============================] - 93s 7ms/step - loss: 1.2791 - acc: 0.5429 - val_loss: 1.1145 - val_acc: 0.5981\n",
      "Epoch 5/1000\n",
      "13300/13300 [==============================] - 93s 7ms/step - loss: 1.1251 - acc: 0.6019 - val_loss: 0.9850 - val_acc: 0.6532\n",
      "Epoch 6/1000\n",
      "13300/13300 [==============================] - 93s 7ms/step - loss: 0.9795 - acc: 0.6550 - val_loss: 0.9344 - val_acc: 0.6691\n",
      "Epoch 7/1000\n",
      "13300/13300 [==============================] - 93s 7ms/step - loss: 0.8938 - acc: 0.6857 - val_loss: 0.8784 - val_acc: 0.6965\n",
      "Epoch 8/1000\n",
      "13300/13300 [==============================] - 93s 7ms/step - loss: 0.8277 - acc: 0.7089 - val_loss: 0.7463 - val_acc: 0.7309\n",
      "Epoch 9/1000\n",
      "13300/13300 [==============================] - 93s 7ms/step - loss: 0.7529 - acc: 0.7351 - val_loss: 0.7800 - val_acc: 0.7268\n",
      "Epoch 10/1000\n",
      "13300/13300 [==============================] - 94s 7ms/step - loss: 0.6506 - acc: 0.7736 - val_loss: 0.6655 - val_acc: 0.7733\n",
      "Epoch 11/1000\n",
      "13300/13300 [==============================] - 94s 7ms/step - loss: 0.5732 - acc: 0.8004 - val_loss: 0.6639 - val_acc: 0.7744\n",
      "Epoch 12/1000\n",
      "13300/13300 [==============================] - 94s 7ms/step - loss: 0.5218 - acc: 0.8192 - val_loss: 0.7090 - val_acc: 0.7654\n",
      "Epoch 13/1000\n",
      "13300/13300 [==============================] - 93s 7ms/step - loss: 0.5186 - acc: 0.8244 - val_loss: 0.5741 - val_acc: 0.8067\n",
      "Epoch 14/1000\n",
      "13300/13300 [==============================] - 93s 7ms/step - loss: 0.5070 - acc: 0.8343 - val_loss: 0.5673 - val_acc: 0.8102\n",
      "Epoch 15/1000\n",
      "13300/13300 [==============================] - 93s 7ms/step - loss: 0.3876 - acc: 0.8707 - val_loss: 0.4615 - val_acc: 0.8421\n",
      "Epoch 16/1000\n",
      "13300/13300 [==============================] - 93s 7ms/step - loss: 0.4136 - acc: 0.8655 - val_loss: 0.4683 - val_acc: 0.8389\n",
      "Epoch 17/1000\n",
      "13300/13300 [==============================] - 93s 7ms/step - loss: 0.3826 - acc: 0.8740 - val_loss: 0.5698 - val_acc: 0.8119\n",
      "Epoch 18/1000\n",
      "13300/13300 [==============================] - 93s 7ms/step - loss: 0.3377 - acc: 0.8883 - val_loss: 0.5018 - val_acc: 0.8411\n",
      "Epoch 19/1000\n",
      "13300/13300 [==============================] - 93s 7ms/step - loss: 0.2615 - acc: 0.9131 - val_loss: 0.4639 - val_acc: 0.8498\n",
      "Epoch 20/1000\n",
      "13300/13300 [==============================] - 93s 7ms/step - loss: 0.2956 - acc: 0.9026 - val_loss: 0.5426 - val_acc: 0.8198\n",
      "Epoch 21/1000\n",
      "13300/13300 [==============================] - 93s 7ms/step - loss: 0.2751 - acc: 0.9098 - val_loss: 0.4189 - val_acc: 0.8684\n",
      "Epoch 22/1000\n",
      "13300/13300 [==============================] - 93s 7ms/step - loss: 0.2418 - acc: 0.9208 - val_loss: 0.4940 - val_acc: 0.8512\n",
      "Epoch 23/1000\n",
      "13300/13300 [==============================] - 93s 7ms/step - loss: 0.2377 - acc: 0.9220 - val_loss: 0.4654 - val_acc: 0.8554\n",
      "Epoch 24/1000\n",
      "13300/13300 [==============================] - 93s 7ms/step - loss: 0.2095 - acc: 0.9307 - val_loss: 0.4708 - val_acc: 0.8558\n",
      "Epoch 25/1000\n",
      "13300/13300 [==============================] - 93s 7ms/step - loss: 0.1640 - acc: 0.9460 - val_loss: 0.5812 - val_acc: 0.8430\n",
      "Epoch 26/1000\n",
      "13300/13300 [==============================] - 93s 7ms/step - loss: 0.2184 - acc: 0.9279 - val_loss: 0.3953 - val_acc: 0.8795\n",
      "Epoch 27/1000\n",
      "13300/13300 [==============================] - 93s 7ms/step - loss: 0.1782 - acc: 0.9412 - val_loss: 0.5762 - val_acc: 0.8468\n",
      "Epoch 28/1000\n",
      "13300/13300 [==============================] - 93s 7ms/step - loss: 0.2433 - acc: 0.9236 - val_loss: 0.4977 - val_acc: 0.8656\n",
      "Epoch 29/1000\n",
      "13300/13300 [==============================] - 93s 7ms/step - loss: 0.1913 - acc: 0.9387 - val_loss: 0.4201 - val_acc: 0.8772\n",
      "Epoch 30/1000\n",
      "13300/13300 [==============================] - 93s 7ms/step - loss: 0.1521 - acc: 0.9483 - val_loss: 0.4461 - val_acc: 0.8812\n",
      "Epoch 31/1000\n",
      "13300/13300 [==============================] - 93s 7ms/step - loss: 0.1325 - acc: 0.9563 - val_loss: 0.3339 - val_acc: 0.9025\n",
      "Epoch 32/1000\n",
      "13300/13300 [==============================] - 93s 7ms/step - loss: 0.1263 - acc: 0.9586 - val_loss: 0.4318 - val_acc: 0.8895\n",
      "Epoch 33/1000\n",
      "13300/13300 [==============================] - 93s 7ms/step - loss: 0.1366 - acc: 0.9561 - val_loss: 0.4268 - val_acc: 0.8821\n",
      "Epoch 34/1000\n",
      "13300/13300 [==============================] - 93s 7ms/step - loss: 0.1331 - acc: 0.9579 - val_loss: 0.5352 - val_acc: 0.8705\n",
      "Epoch 35/1000\n",
      "13300/13300 [==============================] - 93s 7ms/step - loss: 0.1290 - acc: 0.9594 - val_loss: 0.5528 - val_acc: 0.8625\n",
      "Epoch 36/1000\n",
      "13300/13300 [==============================] - 93s 7ms/step - loss: 0.1283 - acc: 0.9596 - val_loss: 0.3936 - val_acc: 0.8921\n",
      "Learning stoped on epoch: 35\n"
     ]
    }
   ],
   "source": [
    "model.compile(loss=keras.losses.categorical_crossentropy,\n",
    "              optimizer=keras.optimizers.Adam(),\n",
    "              metrics=['accuracy'])\n",
    "\n",
    "hist = model.fit(X_train, y_train,\n",
    "          batch_size=128,\n",
    "          epochs=1000,\n",
    "          verbose=1,\n",
    "          validation_data=(X_test, y_test),\n",
    "          shuffle=True,\n",
    "          callbacks=[early_stopping_callback])\n",
    "print(\"Learning stoped on epoch:\", early_stopping_callback.stopped_epoch)"
   ]
  },
  {
   "cell_type": "markdown",
   "metadata": {
    "colab_type": "text",
    "id": "zvU9I4hoW9WY"
   },
   "source": [
    "#Save the model"
   ]
  },
  {
   "cell_type": "code",
   "execution_count": 16,
   "metadata": {
    "colab": {
     "base_uri": "https://localhost:8080/",
     "height": 34
    },
    "colab_type": "code",
    "executionInfo": {
     "elapsed": 1670,
     "status": "ok",
     "timestamp": 1554056478999,
     "user": {
      "displayName": "Mood Class",
      "photoUrl": "",
      "userId": "05879208426753522283"
     },
     "user_tz": -180
    },
    "id": "JHh8UKqUWzNh",
    "outputId": "1567b61b-215c-47d9-8de5-dc31b2c06736"
   },
   "outputs": [
    {
     "name": "stdout",
     "output_type": "stream",
     "text": [
      "Model saved to disk!\n"
     ]
    }
   ],
   "source": [
    "# Save the model\n",
    "model.save('./weights/genres_full_vgg16.h5')\n",
    "print(\"Model saved to disk!\")"
   ]
  },
  {
   "cell_type": "code",
   "execution_count": 17,
   "metadata": {
    "colab": {
     "base_uri": "https://localhost:8080/",
     "height": 34
    },
    "colab_type": "code",
    "executionInfo": {
     "elapsed": 18691,
     "status": "ok",
     "timestamp": 1554056497686,
     "user": {
      "displayName": "Mood Class",
      "photoUrl": "",
      "userId": "05879208426753522283"
     },
     "user_tz": -180
    },
    "id": "X7omzUJ3Qfbf",
    "outputId": "bedad51a-a469-44b5-ea14-f9b89b031510"
   },
   "outputs": [
    {
     "name": "stdout",
     "output_type": "stream",
     "text": [
      "val_loss = 0.394 and val_acc = 0.892\n"
     ]
    }
   ],
   "source": [
    "score = model.evaluate(X_test, y_test, verbose=0)\n",
    "print(\"val_loss = {:.3f} and val_acc = {:.3f}\".format(score[0], score[1]))"
   ]
  },
  {
   "cell_type": "markdown",
   "metadata": {
    "colab_type": "text",
    "id": "yCtKGzPoXFX6"
   },
   "source": [
    "#Visualisation"
   ]
  },
  {
   "cell_type": "code",
   "execution_count": 18,
   "metadata": {
    "colab": {
     "base_uri": "https://localhost:8080/",
     "height": 509
    },
    "colab_type": "code",
    "executionInfo": {
     "elapsed": 1275,
     "status": "ok",
     "timestamp": 1554056498957,
     "user": {
      "displayName": "Mood Class",
      "photoUrl": "",
      "userId": "05879208426753522283"
     },
     "user_tz": -180
    },
    "id": "SYk8WD-gQfbm",
    "outputId": "ff162d95-e556-4589-9c27-112eafee0bd6"
   },
   "outputs": [
    {
     "data": {
      "image/png": "[encoded data removed]",
      "text/plain": [
       "<Figure size 1080x504 with 2 Axes>"
      ]
     },
     "metadata": {
      "tags": []
     },
     "output_type": "display_data"
    }
   ],
   "source": [
    "plt.figure(figsize=(15,7))\n",
    "\n",
    "plt.subplot(1,2,1)\n",
    "plt.plot(hist.history['acc'], label='train')\n",
    "plt.plot(hist.history['val_acc'], label='validation')\n",
    "plt.title('Accuracy')\n",
    "plt.xlabel('Epochs')\n",
    "plt.ylabel('Accuracy')\n",
    "plt.legend()\n",
    "\n",
    "plt.subplot(1,2,2)\n",
    "plt.plot(hist.history['loss'], label='train')\n",
    "plt.plot(hist.history['val_loss'], label='validation')\n",
    "plt.title('Loss')\n",
    "plt.xlabel('Epochs')\n",
    "plt.ylabel('Loss')\n",
    "plt.legend()\n",
    "\n",
    "plt.tight_layout()\n",
    "plt.show()"
   ]
  },
  {
   "cell_type": "code",
   "execution_count": 0,
   "metadata": {
    "colab": {},
    "colab_type": "code",
    "id": "gSK_Vw8OQfbv"
   },
   "outputs": [],
   "source": [
    "#http://scikit-learn.org/stable/auto_examples/model_selection/plot_confusion_matrix.html\n",
    "def plot_confusion_matrix(cm, classes,\n",
    "                          normalize=False,\n",
    "                          title='Confusion matrix',\n",
    "                          cmap=plt.cm.Blues):\n",
    "    \"\"\"\n",
    "    This function prints and plots the confusion matrix.\n",
    "    Normalization can be applied by setting `normalize=True`.\n",
    "    \"\"\"\n",
    "    if normalize:\n",
    "        cm = cm.astype('float') / cm.sum(axis=1)[:, np.newaxis]\n",
    "        print(\"Normalized confusion matrix\")\n",
    "    else:\n",
    "        print('Confusion matrix, without normalization')\n",
    "\n",
    "    plt.imshow(cm, interpolation='nearest', cmap=cmap)\n",
    "    plt.title(title)\n",
    "    plt.colorbar()\n",
    "    tick_marks = np.arange(len(classes))\n",
    "    plt.xticks(tick_marks, classes, rotation=45)\n",
    "    plt.yticks(tick_marks, classes)\n",
    "\n",
    "    fmt = '.2f' if normalize else 'd'\n",
    "    thresh = cm.max() / 2.\n",
    "    for i, j in itertools.product(range(cm.shape[0]), range(cm.shape[1])):\n",
    "        plt.text(j, i, format(cm[i, j], fmt),\n",
    "                 horizontalalignment=\"center\",\n",
    "                 color=\"white\" if cm[i, j] > thresh else \"black\")\n",
    "\n",
    "    plt.tight_layout()\n",
    "    plt.ylabel('True label')\n",
    "    plt.xlabel('Predicted label')"
   ]
  },
  {
   "cell_type": "code",
   "execution_count": 0,
   "metadata": {
    "colab": {},
    "colab_type": "code",
    "id": "c_sqcp22Qfb0"
   },
   "outputs": [],
   "source": [
    "preds = np.argmax(model.predict(X_test), axis = 1)\n",
    "y_orig = np.argmax(y_test, axis = 1)\n",
    "cm = confusion_matrix(preds, y_orig)"
   ]
  },
  {
   "cell_type": "code",
   "execution_count": 21,
   "metadata": {
    "colab": {
     "base_uri": "https://localhost:8080/",
     "height": 598
    },
    "colab_type": "code",
    "executionInfo": {
     "elapsed": 1574,
     "status": "ok",
     "timestamp": 1554056516833,
     "user": {
      "displayName": "Mood Class",
      "photoUrl": "",
      "userId": "05879208426753522283"
     },
     "user_tz": -180
    },
    "id": "B8j41rYuQfb2",
    "outputId": "75d3ef82-cea8-4fe1-9db7-f72be02d2b68"
   },
   "outputs": [
    {
     "name": "stdout",
     "output_type": "stream",
     "text": [
      "Normalized confusion matrix\n"
     ]
    },
    {
     "data": {
      "image/png": "[encoded data removed]",
      "text/plain": [
       "<Figure size 576x576 with 2 Axes>"
      ]
     },
     "metadata": {
      "tags": []
     },
     "output_type": "display_data"
    }
   ],
   "source": [
    "keys = OrderedDict(sorted(genres.items(), key=lambda t: t[1])).keys()\n",
    "\n",
    "plt.figure(figsize=(8,8))\n",
    "plot_confusion_matrix(cm, keys, normalize=True)"
   ]
  }
 ],
 "metadata": {
  "accelerator": "GPU",
  "colab": {
   "collapsed_sections": [],
   "name": "classification_cnn_vgg16.ipynb",
   "provenance": [],
   "version": "0.3.2"
  },
  "kernelspec": {
   "display_name": "Python 3",
   "language": "python",
   "name": "python3"
  },
  "language_info": {
   "codemirror_mode": {
    "name": "ipython",
    "version": 3
   },
   "file_extension": ".py",
   "mimetype": "text/x-python",
   "name": "python",
   "nbconvert_exporter": "python",
   "pygments_lexer": "ipython3",
   "version": "3.6.5"
  }
 },
 "nbformat": 4,
 "nbformat_minor": 1
}
